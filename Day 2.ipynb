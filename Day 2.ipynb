{
 "cells": [
  {
   "cell_type": "markdown",
   "metadata": {},
   "source": [
    "## Control statement\n",
    " - conditional statement & Selection statement\n",
    "      - if-else\n",
    " - iterational statement or loop statement\n",
    "      - while\n",
    "      - for"
   ]
  },
  {
   "cell_type": "code",
   "execution_count": 1,
   "metadata": {},
   "outputs": [
    {
     "name": "stdout",
     "output_type": "stream",
     "text": [
      "59\n",
      "not a leap year\n"
     ]
    }
   ],
   "source": [
    "year= int(input(''))\n",
    "if year % 400 ==0 or (year % 100 != 0 and year % 4 ==0):\n",
    "    print('leap year')\n",
    "else:\n",
    "    print('not a leap year')"
   ]
  },
  {
   "cell_type": "markdown",
   "metadata": {},
   "source": [
    "### while loop"
   ]
  },
  {
   "cell_type": "code",
   "execution_count": 2,
   "metadata": {},
   "outputs": [
    {
     "name": "stdout",
     "output_type": "stream",
     "text": [
      "enter a number10\n",
      "1 2 3 4 5 6 7 8 9 10 "
     ]
    }
   ],
   "source": [
    "#printr 1 to n ?\n",
    "#input n\n",
    "#o/p 1.....10\n",
    "n = int(input('enter a number'))\n",
    "i = 1\n",
    "while i <=n:\n",
    "    print(i,end=' ')\n",
    "    i=i+1"
   ]
  },
  {
   "cell_type": "code",
   "execution_count": 5,
   "metadata": {},
   "outputs": [
    {
     "name": "stdout",
     "output_type": "stream",
     "text": [
      "enter a number10\n",
      "0\n",
      "2\n",
      "2\n",
      "6\n",
      "6\n",
      "12\n",
      "12\n",
      "20\n",
      "20\n",
      "30\n"
     ]
    }
   ],
   "source": [
    "#read a number as input\n",
    "#give o/p as even numbers only\n",
    "n = int(input('enter a number'))\n",
    "i =1\n",
    "s =0\n",
    "while i <=n:\n",
    "    if i % 2 ==0:\n",
    "        s = s +i\n",
    "    i = i +1   \n",
    "    print(s)\n",
    "    "
   ]
  },
  {
   "cell_type": "code",
   "execution_count": 7,
   "metadata": {},
   "outputs": [
    {
     "name": "stdout",
     "output_type": "stream",
     "text": [
      " 123\n",
      "3 2 1 "
     ]
    }
   ],
   "source": [
    "#rwad a number as a number\n",
    "#o/p given as digit\n",
    "#i/p=123\n",
    "#o/p 321\n",
    "n=int(input(' '))\n",
    "while n!=0:\n",
    "    print(n%10,end=' ')\n",
    "    n=n//10"
   ]
  },
  {
   "cell_type": "markdown",
   "metadata": {},
   "source": [
    "## functional programing\n",
    " - simple\n",
    " - easy understand\n",
    " - better reuseability\n",
    " - lenthy program will be devived into small program"
   ]
  },
  {
   "cell_type": "code",
   "execution_count": null,
   "metadata": {},
   "outputs": [],
   "source": [
    "def nameofthefunction(<parameters>):\n",
    "    statement\n",
    "    return"
   ]
  },
  {
   "cell_type": "code",
   "execution_count": 13,
   "metadata": {},
   "outputs": [
    {
     "data": {
      "text/plain": [
       "6"
      ]
     },
     "execution_count": 13,
     "metadata": {},
     "output_type": "execute_result"
    }
   ],
   "source": [
    "#read a number\n",
    "#print the even digits sum from the number\n",
    "# i/p 1234\n",
    "# o/p 6\n",
    "def evenDigitSum(n):\n",
    "    s = 0\n",
    "    while n !=0:\n",
    "        r = n % 10\n",
    "        if r % 2 ==0:\n",
    "            s = s + r\n",
    "        n = n//10\n",
    "    return s\n",
    "evenDigitSum(1234)"
   ]
  },
  {
   "cell_type": "code",
   "execution_count": 1,
   "metadata": {},
   "outputs": [
    {
     "data": {
      "text/plain": [
       "9"
      ]
     },
     "execution_count": 1,
     "metadata": {},
     "output_type": "execute_result"
    }
   ],
   "source": [
    "# input: 19535\n",
    "#o/p: 9\n",
    "# find the large digit in given number\n",
    "def largeDigit(n):\n",
    "    large =0\n",
    "    while n != 0: \n",
    "        r = n % 10\n",
    "        if large < r:\n",
    "            large = r\n",
    "        n = n // 10\n",
    "    return large\n",
    "largeDigit(19535)"
   ]
  },
  {
   "cell_type": "code",
   "execution_count": 2,
   "metadata": {},
   "outputs": [
    {
     "name": "stdout",
     "output_type": "stream",
     "text": [
      "no\n",
      "yes\n"
     ]
    }
   ],
   "source": [
    "#read a number as input\n",
    "# output yes or no\n",
    "\n",
    "# i/p 145\n",
    "# o/p yes\n",
    "\n",
    "# i/p 123\n",
    "# o/p no\n",
    "def factorial(n):\n",
    "    fact=1\n",
    "    i=1\n",
    "    while i<=n:\n",
    "        fact = fact * i\n",
    "        i =i + 1\n",
    "    return fact\n",
    "def digitFactSum(n):\n",
    "    s=0\n",
    "    buffer = n\n",
    "    while n!= 0:\n",
    "        r=n%10\n",
    "        s+= factorial(r)\n",
    "        n= n // 10\n",
    "    if buffer == s:\n",
    "        return \"yes\"\n",
    "    else:\n",
    "        return \"no\"\n",
    "    return\n",
    "print(digitFactSum(123)) # no \n",
    "print(digitFactSum(145)) # yes\n"
   ]
  },
  {
   "cell_type": "code",
   "execution_count": 9,
   "metadata": {},
   "outputs": [
    {
     "name": "stdout",
     "output_type": "stream",
     "text": [
      "palindrome\n",
      "not a palindrome\n"
     ]
    }
   ],
   "source": [
    "#read a number a s i/p\n",
    "# check the palindorm program\n",
    "def isPalindrome(n):\n",
    "    rev =0\n",
    "    buffer = n\n",
    "    while n!=0:\n",
    "        rev = rev * 10 +(n%10)\n",
    "        n = n//10\n",
    "    if buffer == rev:\n",
    "        return \"palindrome\"\n",
    "    return\"not a palindrome\"\n",
    "print(isPalindrome(121)) # palindrome\n",
    "print(isPalindrome(123)) # not a palindrome"
   ]
  },
  {
   "cell_type": "code",
   "execution_count": 10,
   "metadata": {},
   "outputs": [
    {
     "name": "stdout",
     "output_type": "stream",
     "text": [
      "11 12 13 14 15 16 17 18 19 20 21 22 23 24 25 "
     ]
    }
   ],
   "source": [
    "#function to print the number between two limit\n",
    "#input :11 25\n",
    "# o/p : 11 12 13.........25\n",
    "def printSeries(lb,ub):\n",
    "    for x in range(lb,ub+1):\n",
    "        print(x,end=' ')\n",
    "    return\n",
    "printSeries(11,25)\n",
    "    \n",
    "   "
   ]
  },
  {
   "cell_type": "code",
   "execution_count": 11,
   "metadata": {},
   "outputs": [
    {
     "name": "stdout",
     "output_type": "stream",
     "text": [
      "500 504 508 512 516 520 "
     ]
    }
   ],
   "source": [
    "#function to print the alternate number\n",
    "#[500,520]--500 502 503 504 506\n",
    "#[100,140]--100 104 108\n",
    "def alternateNumber(lb,ub):\n",
    "    for x in range(lb,ub+1,4):\n",
    "        print(x,end=' ')\n",
    "    return\n",
    "alternateNumber(500,520)"
   ]
  },
  {
   "cell_type": "code",
   "execution_count": null,
   "metadata": {},
   "outputs": [],
   "source": []
  },
  {
   "cell_type": "code",
   "execution_count": null,
   "metadata": {},
   "outputs": [],
   "source": []
  },
  {
   "cell_type": "code",
   "execution_count": null,
   "metadata": {},
   "outputs": [],
   "source": []
  },
  {
   "cell_type": "code",
   "execution_count": null,
   "metadata": {},
   "outputs": [],
   "source": []
  }
 ],
 "metadata": {
  "kernelspec": {
   "display_name": "Python 3",
   "language": "python",
   "name": "python3"
  },
  "language_info": {
   "codemirror_mode": {
    "name": "ipython",
    "version": 3
   },
   "file_extension": ".py",
   "mimetype": "text/x-python",
   "name": "python",
   "nbconvert_exporter": "python",
   "pygments_lexer": "ipython3",
   "version": "3.7.3"
  }
 },
 "nbformat": 4,
 "nbformat_minor": 2
}
